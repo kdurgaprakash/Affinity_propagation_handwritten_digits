{
 "cells": [
  {
   "cell_type": "code",
   "execution_count": 119,
   "id": "1f3a0cd1",
   "metadata": {},
   "outputs": [],
   "source": [
    "# Import dependancies\n",
    "import numpy as np\n",
    "import statistics\n",
    "\n",
    "\n",
    "from sklearn import metrics\n",
    "from sklearn.datasets import load_digits\n",
    "from sklearn.cluster import AffinityPropagation\n",
    "from sklearn.metrics import confusion_matrix"
   ]
  },
  {
   "cell_type": "code",
   "execution_count": 120,
   "id": "10aeeff6",
   "metadata": {},
   "outputs": [],
   "source": [
    "#Import datasets\n",
    "digits = load_digits()"
   ]
  },
  {
   "cell_type": "code",
   "execution_count": 121,
   "id": "9825db92",
   "metadata": {},
   "outputs": [],
   "source": [
    "# Flatten the images\n",
    "n_samples = len(digits.images)\n",
    "\n",
    "data = digits.images.reshape((n_samples, -1))"
   ]
  },
  {
   "cell_type": "code",
   "execution_count": 122,
   "id": "10ef514d",
   "metadata": {},
   "outputs": [],
   "source": [
    "#x is feature vector and y is true labels\n",
    "x = data\n",
    "y = digits.target"
   ]
  },
  {
   "cell_type": "code",
   "execution_count": 123,
   "id": "9bbb84f9",
   "metadata": {},
   "outputs": [],
   "source": [
    "# Different preference,damping,and max_iterations are tried out and optimal parameters for 10 clusters are passed into affinitypropogation function\n",
    "affi = AffinityPropagation(preference = -54000, damping = .9,max_iter=100000)"
   ]
  },
  {
   "cell_type": "code",
   "execution_count": 124,
   "id": "7d14cca8",
   "metadata": {},
   "outputs": [
    {
     "name": "stderr",
     "output_type": "stream",
     "text": [
      "C:\\Users\\pragi\\anaconda3\\lib\\site-packages\\sklearn\\cluster\\_affinity_propagation.py:148: FutureWarning: 'random_state' has been introduced in 0.23. It will be set to None starting from 1.0 (renaming of 0.25) which means that results will differ at every function call. Set 'random_state' to None to silence this warning, or to 0 to keep the behavior of versions <0.23.\n",
      "  warnings.warn(\n"
     ]
    },
    {
     "data": {
      "text/plain": [
       "array([3, 6, 6, ..., 6, 9, 6], dtype=int64)"
      ]
     },
     "execution_count": 124,
     "metadata": {},
     "output_type": "execute_result"
    }
   ],
   "source": [
    "#Fitting and predicting the clusters\n",
    "affi.fit_predict(x)\n"
   ]
  },
  {
   "cell_type": "code",
   "execution_count": 125,
   "id": "bec2c818",
   "metadata": {
    "scrolled": true
   },
   "outputs": [
    {
     "name": "stdout",
     "output_type": "stream",
     "text": [
      "Most frequent labels of 10 clusters: [1, 3, 6, 0, 7, 5, 8, 4, 2, 9]\n"
     ]
    }
   ],
   "source": [
    "#Check the cluster and see which true label value frequency is highest inside cluster\n",
    "assigned_label = affi.labels_\n",
    "true_label = digits.target\n",
    "\n",
    "temp = []\n",
    "mat = []\n",
    "corrected_label = []\n",
    "for i in range(10):\n",
    "    for j in range(n_samples):\n",
    "        if assigned_label[j] == i:\n",
    "            temp.append(true_label[j])\n",
    "            mode = statistics.mode(temp)\n",
    "    corrected_label.append(mode)\n",
    "    mat = temp\n",
    "    temp.clear()\n",
    "\n",
    "print(\"Most frequent labels of 10 clusters:\",corrected_label)"
   ]
  },
  {
   "cell_type": "code",
   "execution_count": 126,
   "id": "78fdf3be",
   "metadata": {},
   "outputs": [
    {
     "name": "stdout",
     "output_type": "stream",
     "text": [
      "Accuracy: 0.685334082194355\n"
     ]
    }
   ],
   "source": [
    "# Assign most frequent true label value of cluster to all points in the cluster for all clusters\n",
    "\n",
    "new_label = np.zeros(1797)\n",
    "for i in range(10):\n",
    "    for j in range(n_samples):\n",
    "        if assigned_label[j] == i:\n",
    "            new_label[j] = corrected_label[i]\n",
    "\n",
    "#print(\"Final cluster labels:\", new_label)\n",
    "print(\"Accuracy:\",metrics.fowlkes_mallows_score(true_label, new_label))"
   ]
  },
  {
   "cell_type": "code",
   "execution_count": 127,
   "id": "365941d4",
   "metadata": {},
   "outputs": [
    {
     "name": "stdout",
     "output_type": "stream",
     "text": [
      "Confusion_matrix:\n",
      " [[175   0   0   0   2   0   1   0   0   0]\n",
      " [  0  55  25   2   0   0   1   0  99   0]\n",
      " [  2   1 136   3   0   0   0   3  24   8]\n",
      " [  1   0   0 147   0   2   0  10   7  16]\n",
      " [  0   4   0   0 161   1   0   7   8   0]\n",
      " [  2   0   0   0   1 157   1   0   3  18]\n",
      " [  1   0   0   0   1   1 174   0   3   1]\n",
      " [  0   0   0   0   3   1   0 168   7   0]\n",
      " [  2   6   4  21   0   6   0   2 128   5]\n",
      " [  8  17   0  12   0   7   0   6   2 128]]\n"
     ]
    }
   ],
   "source": [
    "confusion = confusion_matrix(true_label, new_label)\n",
    "\n",
    "print(\"Confusion_matrix:\\n\",confusion)"
   ]
  }
 ],
 "metadata": {
  "kernelspec": {
   "display_name": "Python 3",
   "language": "python",
   "name": "python3"
  },
  "language_info": {
   "codemirror_mode": {
    "name": "ipython",
    "version": 3
   },
   "file_extension": ".py",
   "mimetype": "text/x-python",
   "name": "python",
   "nbconvert_exporter": "python",
   "pygments_lexer": "ipython3",
   "version": "3.8.8"
  }
 },
 "nbformat": 4,
 "nbformat_minor": 5
}
